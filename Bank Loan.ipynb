{
 "cells": [
  {
   "cell_type": "code",
   "execution_count": 1,
   "metadata": {},
   "outputs": [],
   "source": [
    "import numpy as np\n",
    "import matplotlib.pyplot as plt\n",
    "import pandas as pd\n",
    "from sklearn.preprocessing import StandardScaler\n",
    "from sklearn.preprocessing import OneHotEncoder\n",
    "from sklearn.compose import ColumnTransformer\n",
    "from sklearn.impute import SimpleImputer\n",
    "from sklearn.pipeline import make_pipeline"
   ]
  },
  {
   "cell_type": "code",
   "execution_count": 2,
   "metadata": {},
   "outputs": [],
   "source": [
    "# X[\"zip_code\"] =  X[\"zip_code\"].str.extract(r\"(\\d+)\")\n",
    "# numeric_columns = X.select_dtypes(include=np.number).columns.tolist()\n",
    "# cat_columns     = X.select_dtypes(include=np.object).columns.tolist()\n",
    "# numeric_pipeline = make_pipeline(SimpleImputer(strategy='mean'), StandardScaler())\n",
    "# cat_pipeline     = make_pipeline(SimpleImputer(strategy='most_frequent'), OneHotEncoder())\n",
    "# transformers = [('num', numeric_pipeline, numeric_columns),\n",
    "#                 ('cat', cat_pipeline, cat_columns)]\n",
    "# transformers = ColumnTransformer(transformers,remainder='passthrough')\n",
    "# transformer =  ColumnTransformer( [ ('X', OneHotEncoder(sparse=\"False\", categories='auto'),\n",
    "#                                       [\"sub_grade\",\"grade\"])],remainder='passthrough')\n",
    "# train_X =pd.DataFrame(transformer.fit_transform(X))\n",
    "# train_X = train_X.apply(pd.to_numeric)"
   ]
  },
  {
   "cell_type": "code",
   "execution_count": 3,
   "metadata": {},
   "outputs": [],
   "source": [
    "def preprocess_data(dataset):\n",
    "    dataset.columns = dataset.columns.str.strip()\n",
    "    dataset = dataset.drop(['batch_enrolled','desc','pymnt_plan','initial_list_status',\n",
    "             'home_ownership','verification_status','application_type',\"addr_state\",\"zip_code\",\n",
    "                        \"purpose\",\"verification_status_joint\",\"emp_title\",\"title\",\"grade\",\"sub_grade\"],axis=1)\n",
    "    X = dataset.copy()\n",
    "    #--------------------------------------------------------------------------------------\n",
    "    '''\n",
    "    Data Cleaning : After importing the dataset the first operations performed. \n",
    "    -> Remove all the unwanted characters from a string. \n",
    "    -> Employment length : removing all characters aA-zZ and ><=\n",
    "    -> last_week_pay : stripping the string- \"months\" and just keeping the integer values.\n",
    "    '''\n",
    "    \n",
    "    X['emp_length'].replace(to_replace='< 1 year', value='0', regex=True, inplace=True)\n",
    "    X[\"emp_length\"] = X[\"emp_length\"].str.extract(r\"(\\d+)\")\n",
    "    X[\"term\"] = X[\"term\"].str.extract(r\"(\\d+)\")\n",
    "    X[\"last_week_pay\"] =  X[\"last_week_pay\"].str.extract(r\"(\\d+)\")\n",
    "    #--------------------------------------------------------------------------------------\n",
    "    \n",
    "    '''\n",
    "    The major step in data preprocessing is dealing with missing data.\n",
    "    In this section, the missing data columns are filled with mean average values. \n",
    "    As the missing data numbers were huge, I could not directly remove all the rows. Instead simply \n",
    "    imputing the data would prepare the model better. \n",
    "    \n",
    "    - Over the time span of observation, we will fill out missing values with the mean of the variable. \n",
    "    - Simple to measure and comprehend. A good alternative if you realize that the variables are usually distributed.\n",
    "    - Replace missing data with NaN and later take the mean. \n",
    "    '''\n",
    "    df = X.copy()\n",
    "    df = df.replace(\"?\",np.NaN)\n",
    "    imputer = SimpleImputer(missing_values = np.NaN, strategy='mean')\n",
    "    imputer.fit(df)\n",
    "    df = pd.DataFrame(imputer.transform(df),columns = df.columns)\n",
    "    #---------------------------------------------------------------------------------------------------------------\n",
    "    '''\n",
    "    Creating few more features with existing data in order the model to perform well. \n",
    "    Calculating....\n",
    "    1. interest paid so far using total interest received till date and Late fee received till date\n",
    "    2. Emi Paid till date: last week pay and total term (Ref: https://economictimes.indiatimes.com/analysis/what-is-emi-and-how-is-it-calculated/articleshow/39880530.cms?from=mdr)\n",
    "    3. Total repayment = EMI + (Recovered amount / loan amount)\n",
    "    '''\n",
    "    #df['avg_acc_line_credits'] = df['total_acc'] - df['open_acc']\n",
    "    df['interest_paid'] = df['total_rec_int'] + df['total_rec_late_fee']\n",
    "    df['emi_paid'] = ((df['last_week_pay']/(df['term']/12*52+1))*100)\n",
    "    df['total_repayment_progress'] = ((df['last_week_pay']/(df['term']/12*52+1))*100) + ((df['recoveries']/df['funded_amnt_inv']) * 100)\n",
    "     \n",
    "    \n",
    "    #--------------------------------------------------------------------------------------------------------------\n",
    "    '''\n",
    "    Columns such as acc_now_delinq, total_rec_late_fee, funded_amnt_inv, recoveries, collection_recovery_fee, collections_12_mths_ex_med\n",
    "    Each of these features show that the repayment was not all easy. All the sums calculated are percentages, \n",
    "    such as the sum of the loan recovery. This column provides the extent of how far the recovery in terms of ratios has\n",
    "    gone off track.\n",
    "    Negative remark shows if the things have gone off track, that means the person shouldn't have been given loan. \n",
    "    '''\n",
    "    cols = ['acc_now_delinq', 'total_rec_late_fee', 'recoveries', 'collection_recovery_fee', 'collections_12_mths_ex_med']\n",
    "    df[cols].fillna(0, inplace=True)  \n",
    "    #df['loan_to_income'] = df['annual_inc']/df['funded_amnt_inv']\n",
    "    \n",
    "    df['negative_remarks'] = df['acc_now_delinq'] + (df['total_rec_late_fee']/df['funded_amnt_inv']) \n",
    "    (df['recoveries']/df['funded_amnt_inv']) + (df['collection_recovery_fee']/df['funded_amnt_inv'])\n",
    "    + (df['collections_12_mths_ex_med']/df['funded_amnt_inv'])\n",
    "    df.loc[df['negative_remarks'] > 0, 'negative_remarks'] = 1\n",
    "    \n",
    "    #----------------------------------------------------------------------------------------------------------------\n",
    "    df = df.replace([np.inf, -np.inf], np.nan)\n",
    "    df = df.dropna()\n",
    "    return df"
   ]
  },
  {
   "cell_type": "code",
   "execution_count": 4,
   "metadata": {},
   "outputs": [],
   "source": [
    "train = pd.read_csv(\"train_indessa.csv\")\n",
    "test = pd.read_csv(\"test_indessa.csv\")"
   ]
  },
  {
   "cell_type": "markdown",
   "metadata": {},
   "source": [
    "#### The below figures show the missing values in the entire dataset before Data-Preprocessing "
   ]
  },
  {
   "cell_type": "code",
   "execution_count": 5,
   "metadata": {},
   "outputs": [
    {
     "data": {
      "text/plain": [
       "member_id                           0\n",
       "loan_amnt                           0\n",
       "funded_amnt                         0\n",
       "funded_amnt_inv                     0\n",
       "term                                0\n",
       "batch_enrolled                  85149\n",
       "int_rate                            0\n",
       "grade                               0\n",
       "sub_grade                           0\n",
       "emp_title                       30833\n",
       "emp_length                      26891\n",
       "home_ownership                      0\n",
       "annual_inc                          3\n",
       "verification_status                 0\n",
       "pymnt_plan                          0\n",
       "desc                           456829\n",
       "purpose                             0\n",
       "title                              90\n",
       "zip_code                            0\n",
       "addr_state                          0\n",
       "dti                                 0\n",
       "delinq_2yrs                        16\n",
       "inq_last_6mths                     16\n",
       "mths_since_last_delinq         272554\n",
       "mths_since_last_record         450305\n",
       "open_acc                           16\n",
       "pub_rec                            16\n",
       "revol_bal                           0\n",
       "revol_util                        287\n",
       "total_acc                          16\n",
       "initial_list_status                 0\n",
       "total_rec_int                       0\n",
       "total_rec_late_fee                  0\n",
       "recoveries                          0\n",
       "collection_recovery_fee             0\n",
       "collections_12_mths_ex_med         95\n",
       "mths_since_last_major_derog    399448\n",
       "application_type                    0\n",
       "verification_status_joint      532123\n",
       "last_week_pay                       0\n",
       "acc_now_delinq                     16\n",
       "tot_coll_amt                    42004\n",
       "tot_cur_bal                     42004\n",
       "total_rev_hi_lim                42004\n",
       "loan_status                         0\n",
       "dtype: int64"
      ]
     },
     "execution_count": 5,
     "metadata": {},
     "output_type": "execute_result"
    }
   ],
   "source": [
    "train.isnull().sum()"
   ]
  },
  {
   "cell_type": "code",
   "execution_count": 6,
   "metadata": {
    "scrolled": false
   },
   "outputs": [
    {
     "name": "stderr",
     "output_type": "stream",
     "text": [
      "c:\\users\\wasee\\miniconda3\\lib\\site-packages\\pandas\\core\\frame.py:4327: SettingWithCopyWarning: \n",
      "A value is trying to be set on a copy of a slice from a DataFrame\n",
      "\n",
      "See the caveats in the documentation: https://pandas.pydata.org/pandas-docs/stable/user_guide/indexing.html#returning-a-view-versus-a-copy\n",
      "  downcast=downcast,\n",
      "c:\\users\\wasee\\miniconda3\\lib\\site-packages\\pandas\\core\\frame.py:4327: SettingWithCopyWarning: \n",
      "A value is trying to be set on a copy of a slice from a DataFrame\n",
      "\n",
      "See the caveats in the documentation: https://pandas.pydata.org/pandas-docs/stable/user_guide/indexing.html#returning-a-view-versus-a-copy\n",
      "  downcast=downcast,\n"
     ]
    }
   ],
   "source": [
    "train_data = preprocess_data(train)\n",
    "test = preprocess_data(test)"
   ]
  },
  {
   "cell_type": "markdown",
   "metadata": {},
   "source": [
    "#### The below figures show the missing values in the entire dataset \"after Data-Preprocessing\""
   ]
  },
  {
   "cell_type": "code",
   "execution_count": 7,
   "metadata": {},
   "outputs": [
    {
     "data": {
      "text/plain": [
       "member_id                      0\n",
       "loan_amnt                      0\n",
       "funded_amnt                    0\n",
       "funded_amnt_inv                0\n",
       "term                           0\n",
       "int_rate                       0\n",
       "emp_length                     0\n",
       "annual_inc                     0\n",
       "dti                            0\n",
       "delinq_2yrs                    0\n",
       "inq_last_6mths                 0\n",
       "mths_since_last_delinq         0\n",
       "mths_since_last_record         0\n",
       "open_acc                       0\n",
       "pub_rec                        0\n",
       "revol_bal                      0\n",
       "revol_util                     0\n",
       "total_acc                      0\n",
       "total_rec_int                  0\n",
       "total_rec_late_fee             0\n",
       "recoveries                     0\n",
       "collection_recovery_fee        0\n",
       "collections_12_mths_ex_med     0\n",
       "mths_since_last_major_derog    0\n",
       "last_week_pay                  0\n",
       "acc_now_delinq                 0\n",
       "tot_coll_amt                   0\n",
       "tot_cur_bal                    0\n",
       "total_rev_hi_lim               0\n",
       "loan_status                    0\n",
       "interest_paid                  0\n",
       "emi_paid                       0\n",
       "total_repayment_progress       0\n",
       "negative_remarks               0\n",
       "dtype: int64"
      ]
     },
     "execution_count": 7,
     "metadata": {},
     "output_type": "execute_result"
    }
   ],
   "source": [
    "train_data.isnull().sum()"
   ]
  },
  {
   "cell_type": "code",
   "execution_count": 8,
   "metadata": {
    "scrolled": true
   },
   "outputs": [
    {
     "data": {
      "text/html": [
       "<div>\n",
       "<style scoped>\n",
       "    .dataframe tbody tr th:only-of-type {\n",
       "        vertical-align: middle;\n",
       "    }\n",
       "\n",
       "    .dataframe tbody tr th {\n",
       "        vertical-align: top;\n",
       "    }\n",
       "\n",
       "    .dataframe thead th {\n",
       "        text-align: right;\n",
       "    }\n",
       "</style>\n",
       "<table border=\"1\" class=\"dataframe\">\n",
       "  <thead>\n",
       "    <tr style=\"text-align: right;\">\n",
       "      <th></th>\n",
       "      <th>member_id</th>\n",
       "      <th>loan_amnt</th>\n",
       "      <th>funded_amnt</th>\n",
       "      <th>funded_amnt_inv</th>\n",
       "      <th>term</th>\n",
       "      <th>int_rate</th>\n",
       "      <th>emp_length</th>\n",
       "      <th>annual_inc</th>\n",
       "      <th>dti</th>\n",
       "      <th>delinq_2yrs</th>\n",
       "      <th>...</th>\n",
       "      <th>last_week_pay</th>\n",
       "      <th>acc_now_delinq</th>\n",
       "      <th>tot_coll_amt</th>\n",
       "      <th>tot_cur_bal</th>\n",
       "      <th>total_rev_hi_lim</th>\n",
       "      <th>loan_status</th>\n",
       "      <th>interest_paid</th>\n",
       "      <th>emi_paid</th>\n",
       "      <th>total_repayment_progress</th>\n",
       "      <th>negative_remarks</th>\n",
       "    </tr>\n",
       "  </thead>\n",
       "  <tbody>\n",
       "    <tr>\n",
       "      <th>0</th>\n",
       "      <td>58189336.0</td>\n",
       "      <td>14350.0</td>\n",
       "      <td>14350.0</td>\n",
       "      <td>14350.0</td>\n",
       "      <td>36.0</td>\n",
       "      <td>19.19</td>\n",
       "      <td>9.0</td>\n",
       "      <td>28700.0</td>\n",
       "      <td>33.88</td>\n",
       "      <td>0.0</td>\n",
       "      <td>...</td>\n",
       "      <td>26.0</td>\n",
       "      <td>0.0</td>\n",
       "      <td>0.0</td>\n",
       "      <td>28699.0</td>\n",
       "      <td>30800.0</td>\n",
       "      <td>0.0</td>\n",
       "      <td>1173.84</td>\n",
       "      <td>16.560510</td>\n",
       "      <td>16.560510</td>\n",
       "      <td>0.0</td>\n",
       "    </tr>\n",
       "    <tr>\n",
       "      <th>1</th>\n",
       "      <td>70011223.0</td>\n",
       "      <td>4800.0</td>\n",
       "      <td>4800.0</td>\n",
       "      <td>4800.0</td>\n",
       "      <td>36.0</td>\n",
       "      <td>10.99</td>\n",
       "      <td>0.0</td>\n",
       "      <td>65000.0</td>\n",
       "      <td>3.64</td>\n",
       "      <td>0.0</td>\n",
       "      <td>...</td>\n",
       "      <td>9.0</td>\n",
       "      <td>0.0</td>\n",
       "      <td>0.0</td>\n",
       "      <td>9974.0</td>\n",
       "      <td>32900.0</td>\n",
       "      <td>0.0</td>\n",
       "      <td>83.95</td>\n",
       "      <td>5.732484</td>\n",
       "      <td>5.732484</td>\n",
       "      <td>0.0</td>\n",
       "    </tr>\n",
       "    <tr>\n",
       "      <th>2</th>\n",
       "      <td>70255675.0</td>\n",
       "      <td>10000.0</td>\n",
       "      <td>10000.0</td>\n",
       "      <td>10000.0</td>\n",
       "      <td>36.0</td>\n",
       "      <td>7.26</td>\n",
       "      <td>2.0</td>\n",
       "      <td>45000.0</td>\n",
       "      <td>18.42</td>\n",
       "      <td>0.0</td>\n",
       "      <td>...</td>\n",
       "      <td>9.0</td>\n",
       "      <td>0.0</td>\n",
       "      <td>65.0</td>\n",
       "      <td>38295.0</td>\n",
       "      <td>34900.0</td>\n",
       "      <td>0.0</td>\n",
       "      <td>56.47</td>\n",
       "      <td>5.732484</td>\n",
       "      <td>5.732484</td>\n",
       "      <td>0.0</td>\n",
       "    </tr>\n",
       "    <tr>\n",
       "      <th>3</th>\n",
       "      <td>1893936.0</td>\n",
       "      <td>15000.0</td>\n",
       "      <td>15000.0</td>\n",
       "      <td>15000.0</td>\n",
       "      <td>36.0</td>\n",
       "      <td>19.72</td>\n",
       "      <td>10.0</td>\n",
       "      <td>105000.0</td>\n",
       "      <td>14.97</td>\n",
       "      <td>0.0</td>\n",
       "      <td>...</td>\n",
       "      <td>135.0</td>\n",
       "      <td>0.0</td>\n",
       "      <td>0.0</td>\n",
       "      <td>55564.0</td>\n",
       "      <td>24700.0</td>\n",
       "      <td>0.0</td>\n",
       "      <td>4858.62</td>\n",
       "      <td>85.987261</td>\n",
       "      <td>85.987261</td>\n",
       "      <td>0.0</td>\n",
       "    </tr>\n",
       "    <tr>\n",
       "      <th>4</th>\n",
       "      <td>7652106.0</td>\n",
       "      <td>16000.0</td>\n",
       "      <td>16000.0</td>\n",
       "      <td>16000.0</td>\n",
       "      <td>36.0</td>\n",
       "      <td>10.64</td>\n",
       "      <td>10.0</td>\n",
       "      <td>52000.0</td>\n",
       "      <td>20.16</td>\n",
       "      <td>0.0</td>\n",
       "      <td>...</td>\n",
       "      <td>96.0</td>\n",
       "      <td>0.0</td>\n",
       "      <td>0.0</td>\n",
       "      <td>47159.0</td>\n",
       "      <td>47033.0</td>\n",
       "      <td>0.0</td>\n",
       "      <td>2296.41</td>\n",
       "      <td>61.146497</td>\n",
       "      <td>61.146497</td>\n",
       "      <td>0.0</td>\n",
       "    </tr>\n",
       "  </tbody>\n",
       "</table>\n",
       "<p>5 rows × 34 columns</p>\n",
       "</div>"
      ],
      "text/plain": [
       "    member_id  loan_amnt  funded_amnt  funded_amnt_inv  term  int_rate  \\\n",
       "0  58189336.0    14350.0      14350.0          14350.0  36.0     19.19   \n",
       "1  70011223.0     4800.0       4800.0           4800.0  36.0     10.99   \n",
       "2  70255675.0    10000.0      10000.0          10000.0  36.0      7.26   \n",
       "3   1893936.0    15000.0      15000.0          15000.0  36.0     19.72   \n",
       "4   7652106.0    16000.0      16000.0          16000.0  36.0     10.64   \n",
       "\n",
       "   emp_length  annual_inc    dti  delinq_2yrs  ...  last_week_pay  \\\n",
       "0         9.0     28700.0  33.88          0.0  ...           26.0   \n",
       "1         0.0     65000.0   3.64          0.0  ...            9.0   \n",
       "2         2.0     45000.0  18.42          0.0  ...            9.0   \n",
       "3        10.0    105000.0  14.97          0.0  ...          135.0   \n",
       "4        10.0     52000.0  20.16          0.0  ...           96.0   \n",
       "\n",
       "   acc_now_delinq  tot_coll_amt  tot_cur_bal  total_rev_hi_lim  loan_status  \\\n",
       "0             0.0           0.0      28699.0           30800.0          0.0   \n",
       "1             0.0           0.0       9974.0           32900.0          0.0   \n",
       "2             0.0          65.0      38295.0           34900.0          0.0   \n",
       "3             0.0           0.0      55564.0           24700.0          0.0   \n",
       "4             0.0           0.0      47159.0           47033.0          0.0   \n",
       "\n",
       "   interest_paid   emi_paid  total_repayment_progress  negative_remarks  \n",
       "0        1173.84  16.560510                 16.560510               0.0  \n",
       "1          83.95   5.732484                  5.732484               0.0  \n",
       "2          56.47   5.732484                  5.732484               0.0  \n",
       "3        4858.62  85.987261                 85.987261               0.0  \n",
       "4        2296.41  61.146497                 61.146497               0.0  \n",
       "\n",
       "[5 rows x 34 columns]"
      ]
     },
     "execution_count": 8,
     "metadata": {},
     "output_type": "execute_result"
    }
   ],
   "source": [
    "train_data.head()"
   ]
  },
  {
   "cell_type": "markdown",
   "metadata": {},
   "source": [
    "# Visualization data\n"
   ]
  },
  {
   "cell_type": "code",
   "execution_count": 9,
   "metadata": {
    "scrolled": false
   },
   "outputs": [
    {
     "data": {
      "text/plain": [
       "Text(0, 0.5, 'Percentage')"
      ]
     },
     "execution_count": 9,
     "metadata": {},
     "output_type": "execute_result"
    },
    {
     "data": {
      "image/png": "[encoded data removed]",
      "text/plain": [
       "<Figure size 432x288 with 1 Axes>"
      ]
     },
     "metadata": {
      "needs_background": "light"
     },
     "output_type": "display_data"
    }
   ],
   "source": [
    "Annual_income = train_data['annual_inc']\n",
    "bins =[0,2500,4000,6000,81000]\n",
    "group =['Low','Average','High','Very high']\n",
    "Annual_income['annual_inc'] = pd.cut(train_data['annual_inc'],bins,labels=group)\n",
    "Total_Income_bin=pd.crosstab(Annual_income['annual_inc'],train_data['loan_status'])\n",
    "Total_Income_bin.div(Total_Income_bin.sum(1).astype(float), axis=0).plot(kind=\"bar\",stacked=True)\n",
    "plt.xlabel('Total_Income')\n",
    "plt.ylabel('Percentage')"
   ]
  },
  {
   "cell_type": "markdown",
   "metadata": {},
   "source": [
    "We can see that the proportion of approved loans for low-total-income applicants is much satisfactory than that of Average, High & Very High Income applicants."
   ]
  },
  {
   "cell_type": "code",
   "execution_count": 10,
   "metadata": {
    "scrolled": true
   },
   "outputs": [
    {
     "data": {
      "image/png": "[encoded data removed]",
      "text/plain": [
       "<Figure size 432x288 with 1 Axes>"
      ]
     },
     "metadata": {
      "needs_background": "light"
     },
     "output_type": "display_data"
    }
   ],
   "source": [
    "bins =[0,2500,4000,6000,81000]\n",
    "group =['Low','Average','High','Very high']\n",
    "Annual_income['annual_inc'] = pd.cut(train_data['annual_inc'],bins,labels=group)\n",
    "Total_Income_bin=pd.crosstab(Annual_income['annual_inc'],train_data['negative_remarks'])\n",
    "Total_Income_bin.div(Total_Income_bin.sum(1).astype(float), axis=0).plot(kind=\"bar\",stacked=True)\n",
    "plt.xlabel('Total_Income')\n",
    "P=plt.ylabel('Percentage')"
   ]
  },
  {
   "cell_type": "markdown",
   "metadata": {},
   "source": [
    "The above graph is plotted with Total Annual income and negative remarks calculated based on the delinquency. This is how much the loans were to be approved by the bank. The people with low income should be kept on hold or not be provided with any loan unless provide mortgage. The people with very high income are the ones who have large deliquency and we should be careful while giving the loan. "
   ]
  },
  {
   "cell_type": "code",
   "execution_count": 11,
   "metadata": {},
   "outputs": [
    {
     "data": {
      "text/html": [
       "<div>\n",
       "<style scoped>\n",
       "    .dataframe tbody tr th:only-of-type {\n",
       "        vertical-align: middle;\n",
       "    }\n",
       "\n",
       "    .dataframe tbody tr th {\n",
       "        vertical-align: top;\n",
       "    }\n",
       "\n",
       "    .dataframe thead th {\n",
       "        text-align: right;\n",
       "    }\n",
       "</style>\n",
       "<table border=\"1\" class=\"dataframe\">\n",
       "  <thead>\n",
       "    <tr style=\"text-align: right;\">\n",
       "      <th></th>\n",
       "      <th>negative_remarks</th>\n",
       "      <th>interest_paid</th>\n",
       "      <th>emi_paid</th>\n",
       "      <th>total_repayment_progress</th>\n",
       "    </tr>\n",
       "  </thead>\n",
       "  <tbody>\n",
       "    <tr>\n",
       "      <th>0</th>\n",
       "      <td>0.0</td>\n",
       "      <td>1173.84</td>\n",
       "      <td>16.560510</td>\n",
       "      <td>16.560510</td>\n",
       "    </tr>\n",
       "    <tr>\n",
       "      <th>1</th>\n",
       "      <td>0.0</td>\n",
       "      <td>83.95</td>\n",
       "      <td>5.732484</td>\n",
       "      <td>5.732484</td>\n",
       "    </tr>\n",
       "    <tr>\n",
       "      <th>2</th>\n",
       "      <td>0.0</td>\n",
       "      <td>56.47</td>\n",
       "      <td>5.732484</td>\n",
       "      <td>5.732484</td>\n",
       "    </tr>\n",
       "    <tr>\n",
       "      <th>3</th>\n",
       "      <td>0.0</td>\n",
       "      <td>4858.62</td>\n",
       "      <td>85.987261</td>\n",
       "      <td>85.987261</td>\n",
       "    </tr>\n",
       "    <tr>\n",
       "      <th>4</th>\n",
       "      <td>0.0</td>\n",
       "      <td>2296.41</td>\n",
       "      <td>61.146497</td>\n",
       "      <td>61.146497</td>\n",
       "    </tr>\n",
       "  </tbody>\n",
       "</table>\n",
       "</div>"
      ],
      "text/plain": [
       "   negative_remarks  interest_paid   emi_paid  total_repayment_progress\n",
       "0               0.0        1173.84  16.560510                 16.560510\n",
       "1               0.0          83.95   5.732484                  5.732484\n",
       "2               0.0          56.47   5.732484                  5.732484\n",
       "3               0.0        4858.62  85.987261                 85.987261\n",
       "4               0.0        2296.41  61.146497                 61.146497"
      ]
     },
     "execution_count": 11,
     "metadata": {},
     "output_type": "execute_result"
    }
   ],
   "source": [
    "plot = train_data[['negative_remarks','interest_paid','emi_paid','total_repayment_progress']]\n",
    "plot.head()"
   ]
  },
  {
   "cell_type": "code",
   "execution_count": 12,
   "metadata": {
    "scrolled": false
   },
   "outputs": [
    {
     "data": {
      "text/plain": [
       "<AxesSubplot:>"
      ]
     },
     "execution_count": 12,
     "metadata": {},
     "output_type": "execute_result"
    },
    {
     "data": {
      "image/png": "[encoded data removed]",
      "text/plain": [
       "<Figure size 648x432 with 2 Axes>"
      ]
     },
     "metadata": {
      "needs_background": "light"
     },
     "output_type": "display_data"
    }
   ],
   "source": [
    "import seaborn as sns\n",
    "import matplotlib.pyplot as plt\n",
    "%matplotlib inline\n",
    "\n",
    "matrix = plot.corr()\n",
    "f, ax = plt.subplots(figsize=(9,6))\n",
    "sns.heatmap(matrix,vmax=.8,square=True,cmap=\"BuPu\", annot = True)"
   ]
  },
  {
   "cell_type": "markdown",
   "metadata": {},
   "source": [
    "The above plot has the values calculated using the existing data. We see that the most correlated variables are (Emi paid - Interest paid). These two facors turn to build the model better. "
   ]
  },
  {
   "cell_type": "markdown",
   "metadata": {},
   "source": [
    "# Model Building "
   ]
  },
  {
   "cell_type": "code",
   "execution_count": 13,
   "metadata": {},
   "outputs": [],
   "source": [
    "'''\n",
    "Split the training data into train and validation sets. Initializing the features and targets. \n",
    "'''\n",
    "train_X = train_data.drop(columns=['member_id','loan_status'])\n",
    "train_y = train_data[\"loan_status\"]\n",
    "from sklearn.model_selection import train_test_split\n",
    "X_train, X_test, y_train, y_test = train_test_split(train_X, train_y, test_size=0.30)\n",
    "eval_set=[(X_test, y_test)]"
   ]
  },
  {
   "cell_type": "code",
   "execution_count": 14,
   "metadata": {
    "scrolled": true
   },
   "outputs": [
    {
     "name": "stdout",
     "output_type": "stream",
     "text": [
      "Accuracy: 76.7589096169%\n",
      "ROC-AUC: 51.1858658979%\n"
     ]
    },
    {
     "name": "stderr",
     "output_type": "stream",
     "text": [
      "c:\\users\\wasee\\miniconda3\\lib\\site-packages\\sklearn\\linear_model\\_logistic.py:764: ConvergenceWarning: lbfgs failed to converge (status=1):\n",
      "STOP: TOTAL NO. of ITERATIONS REACHED LIMIT.\n",
      "\n",
      "Increase the number of iterations (max_iter) or scale the data as shown in:\n",
      "    https://scikit-learn.org/stable/modules/preprocessing.html\n",
      "Please also refer to the documentation for alternative solver options:\n",
      "    https://scikit-learn.org/stable/modules/linear_model.html#logistic-regression\n",
      "  extra_warning_msg=_LOGISTIC_SOLVER_CONVERGENCE_MSG)\n"
     ]
    }
   ],
   "source": [
    "from sklearn.linear_model import LogisticRegression\n",
    "from sklearn.metrics import accuracy_score\n",
    "from sklearn.metrics import auc\n",
    "from sklearn.metrics import roc_curve\n",
    "from sklearn.metrics import roc_auc_score\n",
    "'''\n",
    "The first classifier we will train and test our model is Logistic Regression. \n",
    "'''\n",
    "reg = LogisticRegression()\n",
    "reg.fit(X_train, y_train)\n",
    "y_pred = reg.predict(X_test)\n",
    "acc_score = accuracy_score(y_test,y_pred)\n",
    "acc_roc_auc = roc_auc_score(y_test, y_pred)\n",
    "FP_LR, TP_LR, _ = roc_curve(y_test, y_pred)\n",
    "print(\"Accuracy: %.10f%%\" % (acc_score * 100.0))\n",
    "print(\"ROC-AUC: %.10f%%\" % (acc_roc_auc * 100))"
   ]
  },
  {
   "cell_type": "code",
   "execution_count": 15,
   "metadata": {},
   "outputs": [
    {
     "name": "stderr",
     "output_type": "stream",
     "text": [
      "c:\\users\\wasee\\miniconda3\\lib\\site-packages\\xgboost\\sklearn.py:888: UserWarning: The use of label encoder in XGBClassifier is deprecated and will be removed in a future release. To remove this warning, do the following: 1) Pass option use_label_encoder=False when constructing XGBClassifier object; and 2) Encode your labels (y) as integers starting with 0, i.e. 0, 1, 2, ..., [num_class - 1].\n",
      "  warnings.warn(label_encoder_deprecation_msg, UserWarning)\n"
     ]
    },
    {
     "name": "stdout",
     "output_type": "stream",
     "text": [
      "Running XGBoost classifier. This would take some time....\n",
      "---------- Model Built -------------\n",
      "Predicting ...\n",
      "Accuracy: 90.6955481661%\n",
      "ROC-AUC: 82.8068028486%\n"
     ]
    }
   ],
   "source": [
    "'''\n",
    "The second classifier we will train and test our model is XGBoost Classifier. \n",
    "XGBoost is a decision-tree-based ensemble Machine Learning algorithm that uses a gradient boosting framework.\n",
    "For small-to-medium structured/tabular data, decision tree based algorithms are considered best-in-class right now. \n",
    "'''\n",
    "import xgboost\n",
    "\n",
    "print(\"Running XGBoost classifier. This would take some time....\")\n",
    "clf = xgboost.sklearn.XGBClassifier( objective=\"binary:logistic\", learning_rate=0.05, seed=9616, max_depth=20, gamma=10, \n",
    "    n_estimators=500)\n",
    "\n",
    "clf.fit(X_train, y_train, early_stopping_rounds=20, eval_metric=\"auc\", eval_set=eval_set, verbose = False)\n",
    "print(\"---------- Model Built -------------\")\n",
    "print(\"Predicting ...\")\n",
    "\n",
    "y_pred = clf.predict(X_test)\n",
    "\n",
    "\n",
    "accuracy = accuracy_score(np.array(y_test).flatten(), y_pred)\n",
    "print(\"Accuracy: %.10f%%\" % (accuracy * 100.0))\n",
    "\n",
    "accuracy_per_roc_auc = roc_auc_score(np.array(y_test).flatten(), y_pred)\n",
    "print(\"ROC-AUC: %.10f%%\" % (accuracy_per_roc_auc * 100))\n",
    "FP_XG, TP_XG, _ = roc_curve(y_test, y_pred)\n"
   ]
  },
  {
   "cell_type": "markdown",
   "metadata": {},
   "source": [
    "# Vizualizing the results "
   ]
  },
  {
   "cell_type": "code",
   "execution_count": 16,
   "metadata": {},
   "outputs": [
    {
     "data": {
      "text/plain": [
       "array([[119277,   2768],\n",
       "       [ 12090,  25552]], dtype=int64)"
      ]
     },
     "execution_count": 16,
     "metadata": {},
     "output_type": "execute_result"
    }
   ],
   "source": [
    "from sklearn.metrics import confusion_matrix, plot_confusion_matrix\n",
    "confusion_matrix(y_test,y_pred)"
   ]
  },
  {
   "cell_type": "code",
   "execution_count": 17,
   "metadata": {
    "scrolled": true
   },
   "outputs": [
    {
     "data": {
      "image/png": "[encoded data removed]",
      "text/plain": [
       "<Figure size 432x288 with 2 Axes>"
      ]
     },
     "metadata": {
      "needs_background": "light"
     },
     "output_type": "display_data"
    }
   ],
   "source": [
    "plot_confusion_matrix(clf, X_test, y_test)\n",
    "plt.show()"
   ]
  },
  {
   "cell_type": "code",
   "execution_count": 18,
   "metadata": {},
   "outputs": [
    {
     "data": {
      "image/png": "[encoded data removed]",
      "text/plain": [
       "<Figure size 432x288 with 1 Axes>"
      ]
     },
     "metadata": {
      "needs_background": "light"
     },
     "output_type": "display_data"
    }
   ],
   "source": [
    "\n",
    "from matplotlib import pyplot\n",
    "# plot the roc curve for the model\n",
    "pyplot.plot(FP_XG, TP_XG, marker='.', label='XGBoost')\n",
    "pyplot.plot(FP_LR, TP_LR, marker='.', label='Logistic Regression')\n",
    "# axis labels\n",
    "pyplot.xlabel('False Positive Rate')\n",
    "pyplot.ylabel('True Positive Rate')\n",
    "# show the legend\n",
    "pyplot.legend()\n",
    "# show the plot\n",
    "pyplot.show()"
   ]
  },
  {
   "cell_type": "markdown",
   "metadata": {},
   "source": [
    "## Predicting the test dataset and saving the results "
   ]
  },
  {
   "cell_type": "code",
   "execution_count": 19,
   "metadata": {},
   "outputs": [
    {
     "name": "stdout",
     "output_type": "stream",
     "text": [
      "Predicting probabilities of test data ...\n",
      "Saving probabilities of test data into an excel sheet...\n"
     ]
    }
   ],
   "source": [
    "test_member_id = test['member_id']\n",
    "test = test.drop(columns=['member_id'])\n",
    "print(\"Predicting probabilities of test data ...\")\n",
    "test_data_pred = pd.DataFrame(clf.predict_proba(np.array(test)))\n",
    "file = 'Final_Submission'\n",
    "print(\"Saving probabilities of test data into an excel sheet...\")\n",
    "excel_file = pd.concat([test_member_id, test_data_pred.loc[:, 1:2]], axis=1)\n",
    "excel_file.rename(columns={1:'loan_status'}, inplace=True)\n",
    "excel_file.to_csv((('%s.csv') % (file)), index=False)"
   ]
  }
 ],
 "metadata": {
  "kernelspec": {
   "display_name": "Python 3",
   "language": "python",
   "name": "python3"
  },
  "language_info": {
   "codemirror_mode": {
    "name": "ipython",
    "version": 3
   },
   "file_extension": ".py",
   "mimetype": "text/x-python",
   "name": "python",
   "nbconvert_exporter": "python",
   "pygments_lexer": "ipython3",
   "version": "3.7.7"
  }
 },
 "nbformat": 4,
 "nbformat_minor": 4
}
